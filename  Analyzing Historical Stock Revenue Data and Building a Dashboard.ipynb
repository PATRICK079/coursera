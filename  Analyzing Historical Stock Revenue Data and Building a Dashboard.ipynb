{
 "cells": [
  {
   "cell_type": "markdown",
   "id": "4cd5dee4",
   "metadata": {},
   "source": [
    "## QUESTION 1: Extracting Tesla Stock Data Using yfinance"
   ]
  },
  {
   "cell_type": "code",
   "execution_count": 1,
   "id": "6f47676a",
   "metadata": {},
   "outputs": [],
   "source": [
    "import yfinance as yf\n",
    "import pandas as pd"
   ]
  },
  {
   "cell_type": "code",
   "execution_count": 4,
   "id": "e02d9390",
   "metadata": {},
   "outputs": [
    {
     "name": "stdout",
     "output_type": "stream",
     "text": [
      "[*********************100%***********************]  1 of 1 completed\n"
     ]
    }
   ],
   "source": [
    "ticker_symbol = 'TSLA'\n",
    "\n",
    "\n",
    "tesla_data = yf.download(ticker_symbol, start=\"2010-01-01\", end=\"2024-08-14\")\n"
   ]
  },
  {
   "cell_type": "code",
   "execution_count": 48,
   "id": "510b3ead",
   "metadata": {},
   "outputs": [
    {
     "data": {
      "text/html": [
       "<div>\n",
       "<style scoped>\n",
       "    .dataframe tbody tr th:only-of-type {\n",
       "        vertical-align: middle;\n",
       "    }\n",
       "\n",
       "    .dataframe tbody tr th {\n",
       "        vertical-align: top;\n",
       "    }\n",
       "\n",
       "    .dataframe thead th {\n",
       "        text-align: right;\n",
       "    }\n",
       "</style>\n",
       "<table border=\"1\" class=\"dataframe\">\n",
       "  <thead>\n",
       "    <tr style=\"text-align: right;\">\n",
       "      <th></th>\n",
       "      <th>Open</th>\n",
       "      <th>High</th>\n",
       "      <th>Low</th>\n",
       "      <th>Close</th>\n",
       "      <th>Adj Close</th>\n",
       "      <th>Volume</th>\n",
       "    </tr>\n",
       "    <tr>\n",
       "      <th>Date</th>\n",
       "      <th></th>\n",
       "      <th></th>\n",
       "      <th></th>\n",
       "      <th></th>\n",
       "      <th></th>\n",
       "      <th></th>\n",
       "    </tr>\n",
       "  </thead>\n",
       "  <tbody>\n",
       "    <tr>\n",
       "      <th>2010-06-29 00:00:00-04:00</th>\n",
       "      <td>1.266667</td>\n",
       "      <td>1.666667</td>\n",
       "      <td>1.169333</td>\n",
       "      <td>1.592667</td>\n",
       "      <td>1.592667</td>\n",
       "      <td>281494500</td>\n",
       "    </tr>\n",
       "    <tr>\n",
       "      <th>2010-06-30 00:00:00-04:00</th>\n",
       "      <td>1.719333</td>\n",
       "      <td>2.028000</td>\n",
       "      <td>1.553333</td>\n",
       "      <td>1.588667</td>\n",
       "      <td>1.588667</td>\n",
       "      <td>257806500</td>\n",
       "    </tr>\n",
       "    <tr>\n",
       "      <th>2010-07-01 00:00:00-04:00</th>\n",
       "      <td>1.666667</td>\n",
       "      <td>1.728000</td>\n",
       "      <td>1.351333</td>\n",
       "      <td>1.464000</td>\n",
       "      <td>1.464000</td>\n",
       "      <td>123282000</td>\n",
       "    </tr>\n",
       "    <tr>\n",
       "      <th>2010-07-02 00:00:00-04:00</th>\n",
       "      <td>1.533333</td>\n",
       "      <td>1.540000</td>\n",
       "      <td>1.247333</td>\n",
       "      <td>1.280000</td>\n",
       "      <td>1.280000</td>\n",
       "      <td>77097000</td>\n",
       "    </tr>\n",
       "    <tr>\n",
       "      <th>2010-07-06 00:00:00-04:00</th>\n",
       "      <td>1.333333</td>\n",
       "      <td>1.333333</td>\n",
       "      <td>1.055333</td>\n",
       "      <td>1.074000</td>\n",
       "      <td>1.074000</td>\n",
       "      <td>103003500</td>\n",
       "    </tr>\n",
       "  </tbody>\n",
       "</table>\n",
       "</div>"
      ],
      "text/plain": [
       "                               Open      High       Low     Close  Adj Close  \\\n",
       "Date                                                                           \n",
       "2010-06-29 00:00:00-04:00  1.266667  1.666667  1.169333  1.592667   1.592667   \n",
       "2010-06-30 00:00:00-04:00  1.719333  2.028000  1.553333  1.588667   1.588667   \n",
       "2010-07-01 00:00:00-04:00  1.666667  1.728000  1.351333  1.464000   1.464000   \n",
       "2010-07-02 00:00:00-04:00  1.533333  1.540000  1.247333  1.280000   1.280000   \n",
       "2010-07-06 00:00:00-04:00  1.333333  1.333333  1.055333  1.074000   1.074000   \n",
       "\n",
       "                              Volume  \n",
       "Date                                  \n",
       "2010-06-29 00:00:00-04:00  281494500  \n",
       "2010-06-30 00:00:00-04:00  257806500  \n",
       "2010-07-01 00:00:00-04:00  123282000  \n",
       "2010-07-02 00:00:00-04:00   77097000  \n",
       "2010-07-06 00:00:00-04:00  103003500  "
      ]
     },
     "execution_count": 48,
     "metadata": {},
     "output_type": "execute_result"
    }
   ],
   "source": [
    "tesla_data.head()"
   ]
  },
  {
   "cell_type": "markdown",
   "id": "7fc7d1cf",
   "metadata": {},
   "source": [
    "# Question 2 - Extracting Tesla Revenue Data Using Webscraping "
   ]
  },
  {
   "cell_type": "code",
   "execution_count": 6,
   "id": "0c2b359b",
   "metadata": {},
   "outputs": [],
   "source": [
    "import requests\n",
    "from bs4 import BeautifulSoup\n",
    "import pandas as pd"
   ]
  },
  {
   "cell_type": "code",
   "execution_count": 43,
   "id": "e0dcbbe9",
   "metadata": {},
   "outputs": [],
   "source": [
    "url = \"https://www.macrotrends.net/stocks/charts/TSLA/tesla/revenue\""
   ]
  },
  {
   "cell_type": "code",
   "execution_count": 44,
   "id": "77873f6e",
   "metadata": {},
   "outputs": [
    {
     "name": "stdout",
     "output_type": "stream",
     "text": [
      "Failed to fetch the webpage. Status code: 403\n"
     ]
    }
   ],
   "source": [
    "\n",
    "\n",
    "\n",
    "response = requests.get(url)\n",
    "\n",
    "if response.status_code == 200:\n",
    "    print(\"Successfully fetched the webpage!\")\n",
    "else:\n",
    "    print(f\"Failed to fetch the webpage. Status code: {response.status_code}\")\n"
   ]
  },
  {
   "cell_type": "code",
   "execution_count": 30,
   "id": "6d639a09",
   "metadata": {},
   "outputs": [],
   "source": [
    "soup = BeautifulSoup(response.text, 'html.parser')"
   ]
  },
  {
   "cell_type": "code",
   "execution_count": 35,
   "id": "b67f4f82",
   "metadata": {},
   "outputs": [],
   "source": [
    "\n",
    "rows = soup.find_all('tr')\n"
   ]
  },
  {
   "cell_type": "markdown",
   "id": "b725008c",
   "metadata": {},
   "source": [
    "## QUESTION 3: Extracting GameStop Stock Data Using yfinance"
   ]
  },
  {
   "cell_type": "code",
   "execution_count": 49,
   "id": "8802a009",
   "metadata": {},
   "outputs": [
    {
     "name": "stdout",
     "output_type": "stream",
     "text": [
      "[*********************100%***********************]  1 of 1 completed\n"
     ]
    },
    {
     "data": {
      "text/html": [
       "<div>\n",
       "<style scoped>\n",
       "    .dataframe tbody tr th:only-of-type {\n",
       "        vertical-align: middle;\n",
       "    }\n",
       "\n",
       "    .dataframe tbody tr th {\n",
       "        vertical-align: top;\n",
       "    }\n",
       "\n",
       "    .dataframe thead th {\n",
       "        text-align: right;\n",
       "    }\n",
       "</style>\n",
       "<table border=\"1\" class=\"dataframe\">\n",
       "  <thead>\n",
       "    <tr style=\"text-align: right;\">\n",
       "      <th></th>\n",
       "      <th>Open</th>\n",
       "      <th>High</th>\n",
       "      <th>Low</th>\n",
       "      <th>Close</th>\n",
       "      <th>Adj Close</th>\n",
       "      <th>Volume</th>\n",
       "    </tr>\n",
       "    <tr>\n",
       "      <th>Date</th>\n",
       "      <th></th>\n",
       "      <th></th>\n",
       "      <th></th>\n",
       "      <th></th>\n",
       "      <th></th>\n",
       "      <th></th>\n",
       "    </tr>\n",
       "  </thead>\n",
       "  <tbody>\n",
       "    <tr>\n",
       "      <th>2010-01-04 00:00:00-05:00</th>\n",
       "      <td>5.5175</td>\n",
       "      <td>5.7375</td>\n",
       "      <td>5.5000</td>\n",
       "      <td>5.7250</td>\n",
       "      <td>3.854643</td>\n",
       "      <td>26702800</td>\n",
       "    </tr>\n",
       "    <tr>\n",
       "      <th>2010-01-05 00:00:00-05:00</th>\n",
       "      <td>5.7275</td>\n",
       "      <td>5.9350</td>\n",
       "      <td>5.7250</td>\n",
       "      <td>5.8800</td>\n",
       "      <td>3.959006</td>\n",
       "      <td>21269600</td>\n",
       "    </tr>\n",
       "    <tr>\n",
       "      <th>2010-01-06 00:00:00-05:00</th>\n",
       "      <td>5.8650</td>\n",
       "      <td>6.0250</td>\n",
       "      <td>5.8050</td>\n",
       "      <td>6.0075</td>\n",
       "      <td>4.044851</td>\n",
       "      <td>21471200</td>\n",
       "    </tr>\n",
       "    <tr>\n",
       "      <th>2010-01-07 00:00:00-05:00</th>\n",
       "      <td>5.0025</td>\n",
       "      <td>5.2925</td>\n",
       "      <td>4.8550</td>\n",
       "      <td>5.1150</td>\n",
       "      <td>3.443930</td>\n",
       "      <td>164761200</td>\n",
       "    </tr>\n",
       "    <tr>\n",
       "      <th>2010-01-08 00:00:00-05:00</th>\n",
       "      <td>5.1600</td>\n",
       "      <td>5.3075</td>\n",
       "      <td>5.0575</td>\n",
       "      <td>5.0725</td>\n",
       "      <td>3.415315</td>\n",
       "      <td>47872400</td>\n",
       "    </tr>\n",
       "  </tbody>\n",
       "</table>\n",
       "</div>"
      ],
      "text/plain": [
       "                             Open    High     Low   Close  Adj Close  \\\n",
       "Date                                                                   \n",
       "2010-01-04 00:00:00-05:00  5.5175  5.7375  5.5000  5.7250   3.854643   \n",
       "2010-01-05 00:00:00-05:00  5.7275  5.9350  5.7250  5.8800   3.959006   \n",
       "2010-01-06 00:00:00-05:00  5.8650  6.0250  5.8050  6.0075   4.044851   \n",
       "2010-01-07 00:00:00-05:00  5.0025  5.2925  4.8550  5.1150   3.443930   \n",
       "2010-01-08 00:00:00-05:00  5.1600  5.3075  5.0575  5.0725   3.415315   \n",
       "\n",
       "                              Volume  \n",
       "Date                                  \n",
       "2010-01-04 00:00:00-05:00   26702800  \n",
       "2010-01-05 00:00:00-05:00   21269600  \n",
       "2010-01-06 00:00:00-05:00   21471200  \n",
       "2010-01-07 00:00:00-05:00  164761200  \n",
       "2010-01-08 00:00:00-05:00   47872400  "
      ]
     },
     "execution_count": 49,
     "metadata": {},
     "output_type": "execute_result"
    }
   ],
   "source": [
    "\n",
    "ticker_symbol = 'GME'\n",
    "\n",
    "# Get the data\n",
    "gamestop_data = yf.download(ticker_symbol, start=\"2010-01-01\", end=\"2024-08-14\")\n",
    "\n",
    "gamestop_data.head()"
   ]
  },
  {
   "cell_type": "markdown",
   "id": "e32c8732",
   "metadata": {},
   "source": [
    "## QUESTION 4: Extracting GameStop Revenue Data Using Webscraping "
   ]
  },
  {
   "cell_type": "code",
   "execution_count": 47,
   "id": "0197b350",
   "metadata": {},
   "outputs": [
    {
     "name": "stdout",
     "output_type": "stream",
     "text": [
      "Failed to fetch the webpage. Status code: 403\n"
     ]
    }
   ],
   "source": [
    "url = \"https://www.macrotrends.net/stocks/charts/GME/gamestop/revenue\"\n",
    "\n",
    "response = requests.get(url)\n",
    "if response.status_code == 200:\n",
    "    print(\"Successfully fetched the webpage!\")\n",
    "else:\n",
    "    print(f\"Failed to fetch the webpage. Status code: {response.status_code}\")\n"
   ]
  },
  {
   "cell_type": "code",
   "execution_count": null,
   "id": "41bc4cd7",
   "metadata": {},
   "outputs": [],
   "source": [
    "soup = BeautifulSoup(response.text, 'html.parser')"
   ]
  },
  {
   "cell_type": "markdown",
   "id": "74a6aa13",
   "metadata": {},
   "source": [
    "# Question 5 - Tesla Stock and Revenue Dashboard "
   ]
  },
  {
   "cell_type": "code",
   "execution_count": null,
   "id": "a2aef722",
   "metadata": {},
   "outputs": [],
   "source": []
  },
  {
   "cell_type": "code",
   "execution_count": null,
   "id": "b30bc650",
   "metadata": {},
   "outputs": [],
   "source": []
  },
  {
   "cell_type": "code",
   "execution_count": null,
   "id": "3fb3c916",
   "metadata": {},
   "outputs": [],
   "source": []
  },
  {
   "cell_type": "code",
   "execution_count": null,
   "id": "35d67028",
   "metadata": {},
   "outputs": [],
   "source": []
  }
 ],
 "metadata": {
  "kernelspec": {
   "display_name": "Python 3 (ipykernel)",
   "language": "python",
   "name": "python3"
  },
  "language_info": {
   "codemirror_mode": {
    "name": "ipython",
    "version": 3
   },
   "file_extension": ".py",
   "mimetype": "text/x-python",
   "name": "python",
   "nbconvert_exporter": "python",
   "pygments_lexer": "ipython3",
   "version": "3.11.5"
  }
 },
 "nbformat": 4,
 "nbformat_minor": 5
}
